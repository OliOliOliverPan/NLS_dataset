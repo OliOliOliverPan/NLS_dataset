{
 "cells": [
  {
   "cell_type": "code",
   "execution_count": 1,
   "id": "5895e821",
   "metadata": {},
   "outputs": [
    {
     "name": "stderr",
     "output_type": "stream",
     "text": [
      "/tmp/ipykernel_16344/3371789552.py:1: DeprecationWarning: \n",
      "Pyarrow will become a required dependency of pandas in the next major release of pandas (pandas 3.0),\n",
      "(to allow more performant data types, such as the Arrow string type, and better interoperability with other libraries)\n",
      "but was not found to be installed on your system.\n",
      "If this would cause problems for you,\n",
      "please provide us feedback at https://github.com/pandas-dev/pandas/issues/54466\n",
      "        \n",
      "  import pandas as pd\n"
     ]
    },
    {
     "data": {
      "text/html": [
       "<div>\n",
       "<style scoped>\n",
       "    .dataframe tbody tr th:only-of-type {\n",
       "        vertical-align: middle;\n",
       "    }\n",
       "\n",
       "    .dataframe tbody tr th {\n",
       "        vertical-align: top;\n",
       "    }\n",
       "\n",
       "    .dataframe thead th {\n",
       "        text-align: right;\n",
       "    }\n",
       "</style>\n",
       "<table border=\"1\" class=\"dataframe\">\n",
       "  <thead>\n",
       "    <tr style=\"text-align: right;\">\n",
       "      <th></th>\n",
       "      <th>title</th>\n",
       "      <th>creator</th>\n",
       "      <th>type</th>\n",
       "      <th>publisher</th>\n",
       "      <th>date</th>\n",
       "      <th>language</th>\n",
       "      <th>subject</th>\n",
       "      <th>description</th>\n",
       "      <th>coverage</th>\n",
       "      <th>relation</th>\n",
       "      <th>rights</th>\n",
       "      <th>identifier</th>\n",
       "      <th>format</th>\n",
       "    </tr>\n",
       "  </thead>\n",
       "  <tbody>\n",
       "    <tr>\n",
       "      <th>0</th>\n",
       "      <td>Travel /</td>\n",
       "      <td>Leeson, Edward,1947-2011.</td>\n",
       "      <td>text</td>\n",
       "      <td>London J. Murray</td>\n",
       "      <td>1980</td>\n",
       "      <td>eng</td>\n",
       "      <td>Short stories, English.</td>\n",
       "      <td>None</td>\n",
       "      <td>None</td>\n",
       "      <td>None</td>\n",
       "      <td>None</td>\n",
       "      <td>None</td>\n",
       "      <td>None</td>\n",
       "    </tr>\n",
       "    <tr>\n",
       "      <th>1</th>\n",
       "      <td>Resource book of test items in chemistry</td>\n",
       "      <td>Jenkins, E. W.(Edgar William)</td>\n",
       "      <td>text</td>\n",
       "      <td>London Murray</td>\n",
       "      <td>1981</td>\n",
       "      <td>eng</td>\n",
       "      <td>Chemistry</td>\n",
       "      <td>Bibliography: p15</td>\n",
       "      <td>None</td>\n",
       "      <td>None</td>\n",
       "      <td>None</td>\n",
       "      <td>None</td>\n",
       "      <td>None</td>\n",
       "    </tr>\n",
       "    <tr>\n",
       "      <th>2</th>\n",
       "      <td>Arbitration for contractors</td>\n",
       "      <td>Stephenson, Douglas A.</td>\n",
       "      <td>text</td>\n",
       "      <td>Northwood Books</td>\n",
       "      <td>1982</td>\n",
       "      <td></td>\n",
       "      <td>None</td>\n",
       "      <td>None</td>\n",
       "      <td>None</td>\n",
       "      <td>None</td>\n",
       "      <td>None</td>\n",
       "      <td>None</td>\n",
       "      <td>None</td>\n",
       "    </tr>\n",
       "    <tr>\n",
       "      <th>3</th>\n",
       "      <td>Armorial bearings of the sovereigns of England...</td>\n",
       "      <td>Standing Conference for Local History.</td>\n",
       "      <td>text</td>\n",
       "      <td>London Bedford Square Press [for the] Standing...</td>\n",
       "      <td>1977</td>\n",
       "      <td>eng</td>\n",
       "      <td>Heraldry</td>\n",
       "      <td>Bibliography: p.29-31</td>\n",
       "      <td>None</td>\n",
       "      <td>None</td>\n",
       "      <td>None</td>\n",
       "      <td>None</td>\n",
       "      <td>None</td>\n",
       "    </tr>\n",
       "    <tr>\n",
       "      <th>4</th>\n",
       "      <td>Sharing caring : caring, equal opportunities a...</td>\n",
       "      <td>Thompson, Catherine.</td>\n",
       "      <td>text</td>\n",
       "      <td>Community Care Project</td>\n",
       "      <td>[1985]</td>\n",
       "      <td></td>\n",
       "      <td>None</td>\n",
       "      <td>None</td>\n",
       "      <td>None</td>\n",
       "      <td>None</td>\n",
       "      <td>None</td>\n",
       "      <td>None</td>\n",
       "      <td>None</td>\n",
       "    </tr>\n",
       "    <tr>\n",
       "      <th>...</th>\n",
       "      <td>...</td>\n",
       "      <td>...</td>\n",
       "      <td>...</td>\n",
       "      <td>...</td>\n",
       "      <td>...</td>\n",
       "      <td>...</td>\n",
       "      <td>...</td>\n",
       "      <td>...</td>\n",
       "      <td>...</td>\n",
       "      <td>...</td>\n",
       "      <td>...</td>\n",
       "      <td>...</td>\n",
       "      <td>...</td>\n",
       "    </tr>\n",
       "    <tr>\n",
       "      <th>5091422</th>\n",
       "      <td>Symfoni Nr. 5, Opus 50 = Symphony no. 5, opus ...</td>\n",
       "      <td>Fjeldsøe, Michael.edt</td>\n",
       "      <td>notated music</td>\n",
       "      <td>Copenhagen : Edition Wilhelm Hansen,</td>\n",
       "      <td>1998.</td>\n",
       "      <td>zxx</td>\n",
       "      <td>Symphonies</td>\n",
       "      <td>\"Critical commentary,\" \"Filiation and evaluati...</td>\n",
       "      <td>None</td>\n",
       "      <td>None</td>\n",
       "      <td>None</td>\n",
       "      <td>None</td>\n",
       "      <td>None</td>\n",
       "    </tr>\n",
       "    <tr>\n",
       "      <th>5091423</th>\n",
       "      <td>Music for violin : from 'El Amor brujo' = Musi...</td>\n",
       "      <td>Falla, Manuel de,1876-1946.Amor brujo.Danza ri...</td>\n",
       "      <td>notated music</td>\n",
       "      <td>London : Chester Music,</td>\n",
       "      <td>c1996.</td>\n",
       "      <td>zxx</td>\n",
       "      <td>Ballets</td>\n",
       "      <td>Dance of terror (Danza del terror) -- Pantomim...</td>\n",
       "      <td>None</td>\n",
       "      <td>None</td>\n",
       "      <td>None</td>\n",
       "      <td>None</td>\n",
       "      <td>None</td>\n",
       "    </tr>\n",
       "    <tr>\n",
       "      <th>5091424</th>\n",
       "      <td>Fox trot ; and Celebration rag : for SATB reco...</td>\n",
       "      <td>Hilling, Lyndon.</td>\n",
       "      <td>notated music</td>\n",
       "      <td>London : Theo Wyatt,</td>\n",
       "      <td>c1984.</td>\n",
       "      <td>eng</td>\n",
       "      <td>None</td>\n",
       "      <td>Publ.no.</td>\n",
       "      <td>None</td>\n",
       "      <td>None</td>\n",
       "      <td>None</td>\n",
       "      <td>None</td>\n",
       "      <td>None</td>\n",
       "    </tr>\n",
       "    <tr>\n",
       "      <th>5091425</th>\n",
       "      <td>Fieber : Tondichtung : für Tenor und Orcheste...</td>\n",
       "      <td>Lehár, Franz1870-1948.</td>\n",
       "      <td>notated music</td>\n",
       "      <td>London Glocken Verlag</td>\n",
       "      <td>[1995]</td>\n",
       "      <td>ger</td>\n",
       "      <td>None</td>\n",
       "      <td>2827</td>\n",
       "      <td>None</td>\n",
       "      <td>None</td>\n",
       "      <td>None</td>\n",
       "      <td>None</td>\n",
       "      <td>None</td>\n",
       "    </tr>\n",
       "    <tr>\n",
       "      <th>5091426</th>\n",
       "      <td>Tu es petrus : motet /</td>\n",
       "      <td>Lewin, Greg.</td>\n",
       "      <td>notated music</td>\n",
       "      <td>Stafford : Hawthorns Music,</td>\n",
       "      <td>c1995.</td>\n",
       "      <td>zxx</td>\n",
       "      <td>None</td>\n",
       "      <td>None</td>\n",
       "      <td>None</td>\n",
       "      <td>None</td>\n",
       "      <td>None</td>\n",
       "      <td>None</td>\n",
       "      <td>None</td>\n",
       "    </tr>\n",
       "  </tbody>\n",
       "</table>\n",
       "<p>5091427 rows × 13 columns</p>\n",
       "</div>"
      ],
      "text/plain": [
       "                                                     title  \\\n",
       "0                                                 Travel /   \n",
       "1                 Resource book of test items in chemistry   \n",
       "2                              Arbitration for contractors   \n",
       "3        Armorial bearings of the sovereigns of England...   \n",
       "4        Sharing caring : caring, equal opportunities a...   \n",
       "...                                                    ...   \n",
       "5091422  Symfoni Nr. 5, Opus 50 = Symphony no. 5, opus ...   \n",
       "5091423  Music for violin : from 'El Amor brujo' = Musi...   \n",
       "5091424  Fox trot ; and Celebration rag : for SATB reco...   \n",
       "5091425  Fieber : Tondichtung : für Tenor und Orcheste...   \n",
       "5091426                             Tu es petrus : motet /   \n",
       "\n",
       "                                                   creator           type  \\\n",
       "0                                Leeson, Edward,1947-2011.           text   \n",
       "1                            Jenkins, E. W.(Edgar William)           text   \n",
       "2                                   Stephenson, Douglas A.           text   \n",
       "3                   Standing Conference for Local History.           text   \n",
       "4                                     Thompson, Catherine.           text   \n",
       "...                                                    ...            ...   \n",
       "5091422                              Fjeldsøe, Michael.edt  notated music   \n",
       "5091423  Falla, Manuel de,1876-1946.Amor brujo.Danza ri...  notated music   \n",
       "5091424                                   Hilling, Lyndon.  notated music   \n",
       "5091425                            Lehár, Franz1870-1948.  notated music   \n",
       "5091426                                       Lewin, Greg.  notated music   \n",
       "\n",
       "                                                 publisher    date language  \\\n",
       "0                                         London J. Murray    1980      eng   \n",
       "1                                            London Murray    1981      eng   \n",
       "2                                          Northwood Books    1982            \n",
       "3        London Bedford Square Press [for the] Standing...    1977      eng   \n",
       "4                                   Community Care Project  [1985]            \n",
       "...                                                    ...     ...      ...   \n",
       "5091422               Copenhagen : Edition Wilhelm Hansen,   1998.      zxx   \n",
       "5091423                            London : Chester Music,  c1996.      zxx   \n",
       "5091424                               London : Theo Wyatt,  c1984.      eng   \n",
       "5091425                              London Glocken Verlag  [1995]      ger   \n",
       "5091426                        Stafford : Hawthorns Music,  c1995.      zxx   \n",
       "\n",
       "                         subject  \\\n",
       "0        Short stories, English.   \n",
       "1                      Chemistry   \n",
       "2                           None   \n",
       "3                       Heraldry   \n",
       "4                           None   \n",
       "...                          ...   \n",
       "5091422               Symphonies   \n",
       "5091423                  Ballets   \n",
       "5091424                     None   \n",
       "5091425                     None   \n",
       "5091426                     None   \n",
       "\n",
       "                                               description coverage relation  \\\n",
       "0                                                     None     None     None   \n",
       "1                                        Bibliography: p15     None     None   \n",
       "2                                                     None     None     None   \n",
       "3                                    Bibliography: p.29-31     None     None   \n",
       "4                                                     None     None     None   \n",
       "...                                                    ...      ...      ...   \n",
       "5091422  \"Critical commentary,\" \"Filiation and evaluati...     None     None   \n",
       "5091423  Dance of terror (Danza del terror) -- Pantomim...     None     None   \n",
       "5091424                                           Publ.no.     None     None   \n",
       "5091425                                               2827     None     None   \n",
       "5091426                                               None     None     None   \n",
       "\n",
       "        rights identifier format  \n",
       "0         None       None   None  \n",
       "1         None       None   None  \n",
       "2         None       None   None  \n",
       "3         None       None   None  \n",
       "4         None       None   None  \n",
       "...        ...        ...    ...  \n",
       "5091422   None       None   None  \n",
       "5091423   None       None   None  \n",
       "5091424   None       None   None  \n",
       "5091425   None       None   None  \n",
       "5091426   None       None   None  \n",
       "\n",
       "[5091427 rows x 13 columns]"
      ]
     },
     "execution_count": 1,
     "metadata": {},
     "output_type": "execute_result"
    }
   ],
   "source": [
    "import pandas as pd\n",
    "import os\n",
    "import re\n",
    "import numpy as np\n",
    "import seaborn as sns\n",
    "import matplotlib.pyplot as plt\n",
    "\n",
    "folder_path = '/afs/inf.ed.ac.uk/user/s21/s2103701/Desktop/nls-catalogue-published-material_dc'\n",
    "\n",
    "file_prefix = 'BIBLIOGRAPHIC_11573881650004341_'\n",
    "\n",
    "file_end = '.xml'\n",
    "\n",
    "data = pd.DataFrame()\n",
    "\n",
    "for i in range(1,52):\n",
    "    curr_file = file_prefix + str(i) + file_end\n",
    "    file_path = os.path.join(folder_path, curr_file)\n",
    "\n",
    "    df = pd.read_xml(file_path)\n",
    "\n",
    "    data = pd.concat([data, df], ignore_index = True)\n",
    "\n",
    "data"
   ]
  },
  {
   "cell_type": "markdown",
   "id": "b2bc8427-6528-46dd-84ba-7cbb6f0d5034",
   "metadata": {},
   "source": [
    "# Time Preprocessing"
   ]
  },
  {
   "cell_type": "code",
   "execution_count": 2,
   "id": "3332d334-50b0-4e0c-8956-d91076438bc0",
   "metadata": {},
   "outputs": [
    {
     "name": "stderr",
     "output_type": "stream",
     "text": [
      "/tmp/ipykernel_16344/4172830421.py:35: SettingWithCopyWarning: \n",
      "A value is trying to be set on a copy of a slice from a DataFrame.\n",
      "Try using .loc[row_indexer,col_indexer] = value instead\n",
      "\n",
      "See the caveats in the documentation: https://pandas.pydata.org/pandas-docs/stable/user_guide/indexing.html#returning-a-view-versus-a-copy\n",
      "  data['year'], data['certainty'] = zip(*data['date'].apply(extract_four_digit_year))\n",
      "/tmp/ipykernel_16344/4172830421.py:35: SettingWithCopyWarning: \n",
      "A value is trying to be set on a copy of a slice from a DataFrame.\n",
      "Try using .loc[row_indexer,col_indexer] = value instead\n",
      "\n",
      "See the caveats in the documentation: https://pandas.pydata.org/pandas-docs/stable/user_guide/indexing.html#returning-a-view-versus-a-copy\n",
      "  data['year'], data['certainty'] = zip(*data['date'].apply(extract_four_digit_year))\n"
     ]
    }
   ],
   "source": [
    "data_year_undefined = data[data.date.isna() == True]\n",
    "\n",
    "data = data[data.date.isna() == False]\n",
    "\n",
    "def extract_four_digit_year(value):\n",
    "    # Check for the presence of 'c', 'ca', or 'circa' at the beginning\n",
    "    prefix_match = re.match(r'^(c|ca|circa)', str(value), flags=re.IGNORECASE)\n",
    "    \n",
    "    # Extract all digits from the value\n",
    "    digits = re.findall(r'\\d', str(value))\n",
    "    \n",
    "    # If no digits found or less than 4 digits, return None\n",
    "    if not digits or len(digits) < 4:\n",
    "        return None, \"unclear uncertainty\"\n",
    "    \n",
    "    # Join the digits and convert to integer\n",
    "    year = int(''.join(digits))\n",
    "    \n",
    "    # If exactly 4 digits \n",
    "    if len(str(year)) == 4 and int(str(year)) > 1000 and int(str(year)) <= 2023:\n",
    "        if prefix_match:\n",
    "            return year, \"clear uncertainty\"\n",
    "        if '?' in str(value):\n",
    "            return year, \"clear uncertainty\"\n",
    "        if not prefix_match:\n",
    "            return year, \"certainty\"\n",
    "    \n",
    "    # If more than 4 digits, return the original value with False\n",
    "    elif len(str(year)) > 4:\n",
    "        return value, \"unclear uncertainty\"\n",
    "    # Otherwise, return None with False\n",
    "    else:\n",
    "        return None, \"unclear uncertainty\"\n",
    "\n",
    "data['year'], data['certainty'] = zip(*data['date'].apply(extract_four_digit_year))\n",
    "\n",
    "data = data[data.date.isna() == False]\n",
    "\n",
    "# retain collections that we are certain about their publication year\n",
    "data_certain = data[data.certainty == 'certainty']\n"
   ]
  },
  {
   "cell_type": "code",
   "execution_count": 3,
   "id": "c095040f-7227-42c0-bd04-0ea7fa526fe0",
   "metadata": {},
   "outputs": [
    {
     "data": {
      "text/plain": [
       "3387584"
      ]
     },
     "execution_count": 3,
     "metadata": {},
     "output_type": "execute_result"
    }
   ],
   "source": [
    "types = data_certain['type'].tolist()\n",
    "\n",
    "len(types)"
   ]
  },
  {
   "cell_type": "code",
   "execution_count": 4,
   "id": "25bb9e96-3714-4cf0-9c08-d185d37366be",
   "metadata": {},
   "outputs": [
    {
     "data": {
      "text/plain": [
       "2117"
      ]
     },
     "execution_count": 4,
     "metadata": {},
     "output_type": "execute_result"
    }
   ],
   "source": [
    "unique_types = pd.unique(data_certain['type']).tolist()\n",
    "\n",
    "len(unique_types)"
   ]
  },
  {
   "cell_type": "code",
   "execution_count": 5,
   "id": "ee78ba96-c27e-4ab3-9be0-4d14c6f887b8",
   "metadata": {},
   "outputs": [
    {
     "data": {
      "text/plain": [
       "101"
      ]
     },
     "execution_count": 5,
     "metadata": {},
     "output_type": "execute_result"
    }
   ],
   "source": [
    "from nltk import FreqDist\n",
    "\n",
    "fdist = FreqDist(types)\n",
    "fdist = dict(fdist.most_common(101))\n",
    "\n",
    "len(fdist.keys())"
   ]
  },
  {
   "cell_type": "code",
   "execution_count": 6,
   "id": "d373af6d-6a1e-45d4-b0e0-2ffcce06d279",
   "metadata": {},
   "outputs": [],
   "source": [
    "def type_preprocess(key):\n",
    "    # Keywords to be removed if found at the end of an element\n",
    "    # keywords = [\".lcgft\",\".rgenbr\", \".gsafd\", \".lcsh\", \".rvmgf\", \".aat\",\n",
    "    #             \".rbprov\", \".lcsh.\",\".gsafd.\", \".rbgenr\",\"rbenr\", \"gsafd\", \"lcsh\", \"rvmgf\", \"rbgenr\",\n",
    "    #            \".fast(ocolc)fst01411641\", \".fast(ocolc)fst01411628\", \".fast(ocolc)fst01423787\"]\n",
    "\n",
    "    if key is not None:\n",
    "        key = key.lower()\n",
    "    \n",
    "        # for keyword in keywords:\n",
    "        #     if key.endswith(keyword):\n",
    "        #         key = key[:-len(keyword)]\n",
    "        #         break\n",
    "    return key\n",
    "\n",
    "fdist = {type_preprocess(key): value for key, value in fdist.items()}\n"
   ]
  },
  {
   "cell_type": "code",
   "execution_count": 7,
   "id": "d88d9ef6-b054-4d01-a8d6-0fdb1ea65b74",
   "metadata": {},
   "outputs": [],
   "source": [
    "categories = {\n",
    "    'text': {\n",
    "        'children': {\n",
    "            'other text': {\n",
    "                'children': {\n",
    "                    'broadside': {}, 'proclamation': {}, 'almanac': {}, 'ballad': {}, 'theater program': {}, 'annotation':{}, 'chapbook':{}\n",
    "                }\n",
    "            },\n",
    "            'reading': {\n",
    "                'children': {\n",
    "                    'book': {}, 'stories': {}, 'fiction': {}, 'tale': {}, 'novel':{},\n",
    "                    'history': {}, 'bildungsromane': {}, 'reader': {}\n",
    "                }\n",
    "            },\n",
    "            'magazine': {\n",
    "                'children': {\n",
    "                    'journal': {}, 'periodical': {}, 'périodique': {}\n",
    "                }\n",
    "            },\n",
    "            \n",
    "        }\n",
    "    },\n",
    "    'object': {\n",
    "        'children': {\n",
    "            'three dimensional object': {},\n",
    "            'graphs': {\n",
    "                'children': {\n",
    "                    'cartographic': {},\n",
    "                    'images': {\n",
    "                        'children': {\n",
    "                            'moving': {}, 'still': {}, 'poster': {}\n",
    "                        }\n",
    "                    }\n",
    "                }\n",
    "            }\n",
    "        }\n",
    "    },\n",
    "    'audio': {\n",
    "        'children': {\n",
    "            'recording': {}, 'notated music': {}\n",
    "        }\n",
    "    },\n",
    "    'computer': {\n",
    "        'children': {\n",
    "            'software':{},'ressource internet': {}\n",
    "        }\n",
    "    },\n",
    "    'unknown': {}\n",
    "}\n",
    "\n"
   ]
  },
  {
   "cell_type": "code",
   "execution_count": 8,
   "id": "16ff216c-c977-4af6-91ed-69f237ed7755",
   "metadata": {},
   "outputs": [
    {
     "data": {
      "text/html": [
       "<div>\n",
       "<style scoped>\n",
       "    .dataframe tbody tr th:only-of-type {\n",
       "        vertical-align: middle;\n",
       "    }\n",
       "\n",
       "    .dataframe tbody tr th {\n",
       "        vertical-align: top;\n",
       "    }\n",
       "\n",
       "    .dataframe thead th {\n",
       "        text-align: right;\n",
       "    }\n",
       "</style>\n",
       "<table border=\"1\" class=\"dataframe\">\n",
       "  <thead>\n",
       "    <tr style=\"text-align: right;\">\n",
       "      <th></th>\n",
       "      <th>Level 0</th>\n",
       "      <th>Level 1</th>\n",
       "      <th>Level 2</th>\n",
       "      <th>Level 3</th>\n",
       "      <th>Key</th>\n",
       "      <th>Value</th>\n",
       "    </tr>\n",
       "  </thead>\n",
       "  <tbody>\n",
       "    <tr>\n",
       "      <th>0</th>\n",
       "      <td>object</td>\n",
       "      <td>graphs</td>\n",
       "      <td>cartographic</td>\n",
       "      <td></td>\n",
       "      <td>cartographic</td>\n",
       "      <td>61769</td>\n",
       "    </tr>\n",
       "    <tr>\n",
       "      <th>1</th>\n",
       "      <td>audio</td>\n",
       "      <td>notated music</td>\n",
       "      <td></td>\n",
       "      <td></td>\n",
       "      <td>notated music</td>\n",
       "      <td>6613</td>\n",
       "    </tr>\n",
       "    <tr>\n",
       "      <th>2</th>\n",
       "      <td>text</td>\n",
       "      <td>magazine</td>\n",
       "      <td>periodical</td>\n",
       "      <td></td>\n",
       "      <td>periodicals.fast(ocolc)fst01411641</td>\n",
       "      <td>3433</td>\n",
       "    </tr>\n",
       "    <tr>\n",
       "      <th>3</th>\n",
       "      <td>text</td>\n",
       "      <td>reading</td>\n",
       "      <td>book</td>\n",
       "      <td></td>\n",
       "      <td>electronic books.</td>\n",
       "      <td>3145</td>\n",
       "    </tr>\n",
       "    <tr>\n",
       "      <th>4</th>\n",
       "      <td>audio</td>\n",
       "      <td>recording</td>\n",
       "      <td></td>\n",
       "      <td></td>\n",
       "      <td>sound recording</td>\n",
       "      <td>2193</td>\n",
       "    </tr>\n",
       "    <tr>\n",
       "      <th>...</th>\n",
       "      <td>...</td>\n",
       "      <td>...</td>\n",
       "      <td>...</td>\n",
       "      <td>...</td>\n",
       "      <td>...</td>\n",
       "      <td>...</td>\n",
       "    </tr>\n",
       "    <tr>\n",
       "      <th>95</th>\n",
       "      <td>text</td>\n",
       "      <td>reading</td>\n",
       "      <td>novel</td>\n",
       "      <td></td>\n",
       "      <td>radio and television novels.gsafd</td>\n",
       "      <td>38</td>\n",
       "    </tr>\n",
       "    <tr>\n",
       "      <th>96</th>\n",
       "      <td>text</td>\n",
       "      <td>reading</td>\n",
       "      <td>bildungsromane</td>\n",
       "      <td></td>\n",
       "      <td>bildungsromane.gsafd</td>\n",
       "      <td>38</td>\n",
       "    </tr>\n",
       "    <tr>\n",
       "      <th>97</th>\n",
       "      <td>text</td>\n",
       "      <td>reading</td>\n",
       "      <td>stories</td>\n",
       "      <td></td>\n",
       "      <td>erotic stories.</td>\n",
       "      <td>38</td>\n",
       "    </tr>\n",
       "    <tr>\n",
       "      <th>98</th>\n",
       "      <td>text</td>\n",
       "      <td>other text</td>\n",
       "      <td>chapbook</td>\n",
       "      <td></td>\n",
       "      <td>chapbooksscotlanddunfermline1801-1900.rbgenr</td>\n",
       "      <td>38</td>\n",
       "    </tr>\n",
       "    <tr>\n",
       "      <th>99</th>\n",
       "      <td>text</td>\n",
       "      <td>reading</td>\n",
       "      <td>tale</td>\n",
       "      <td></td>\n",
       "      <td>horror tales.</td>\n",
       "      <td>37</td>\n",
       "    </tr>\n",
       "  </tbody>\n",
       "</table>\n",
       "<p>100 rows × 6 columns</p>\n",
       "</div>"
      ],
      "text/plain": [
       "   Level 0        Level 1         Level 2 Level 3  \\\n",
       "0   object         graphs    cartographic           \n",
       "1    audio  notated music                           \n",
       "2     text       magazine      periodical           \n",
       "3     text        reading            book           \n",
       "4    audio      recording                           \n",
       "..     ...            ...             ...     ...   \n",
       "95    text        reading           novel           \n",
       "96    text        reading  bildungsromane           \n",
       "97    text        reading         stories           \n",
       "98    text     other text        chapbook           \n",
       "99    text        reading            tale           \n",
       "\n",
       "                                             Key  Value  \n",
       "0                                   cartographic  61769  \n",
       "1                                  notated music   6613  \n",
       "2             periodicals.fast(ocolc)fst01411641   3433  \n",
       "3                              electronic books.   3145  \n",
       "4                                sound recording   2193  \n",
       "..                                           ...    ...  \n",
       "95             radio and television novels.gsafd     38  \n",
       "96                          bildungsromane.gsafd     38  \n",
       "97                               erotic stories.     38  \n",
       "98  chapbooksscotlanddunfermline1801-1900.rbgenr     38  \n",
       "99                                 horror tales.     37  \n",
       "\n",
       "[100 rows x 6 columns]"
      ]
     },
     "execution_count": 8,
     "metadata": {},
     "output_type": "execute_result"
    }
   ],
   "source": [
    "from collections import deque\n",
    "\n",
    "\n",
    "def find_deepest_category(entry, categories):\n",
    "    if entry is None:\n",
    "        return ['Unknown']\n",
    "\n",
    "    entry = entry.lower()  # Convert the entry to lowercase for case-insensitive matching\n",
    "    queue = deque([({'children': categories}, [])])  # Initialize the queue\n",
    "    deepest_match = ['Unknown']\n",
    "    longest_match_length = 0  # Track the length of the longest match\n",
    "\n",
    "    while queue:\n",
    "        current_item, path = queue.popleft()\n",
    "        current_level = current_item.get('children', {})\n",
    "\n",
    "        for category, details in current_level.items():\n",
    "            category_lower = category.lower()  # Convert category name to lowercase for case-insensitive matching\n",
    "            # Check if the category name is a substring of the entry\n",
    "            if category_lower in entry:\n",
    "                match_length = len(category_lower)\n",
    "                # Update the deepest match if this match is longer than any previous match\n",
    "                if match_length > longest_match_length:\n",
    "                    deepest_match = path + [category]\n",
    "                    longest_match_length = match_length\n",
    "\n",
    "            # If there are children, add them to the queue to explore further\n",
    "            if 'children' in details:\n",
    "                queue.append((details, path + [category]))\n",
    "\n",
    "    return deepest_match\n",
    "\n",
    "\n",
    "# hierarchies = []\n",
    "\n",
    "# for k, v in fdist.items():\n",
    "#     if k is None:\n",
    "#         categories['unknown'].update({\"None\":v})\n",
    "#     else:\n",
    "#         if k != 'text':\n",
    "#             deepest_match = find_deepest_category(k, categories)\n",
    "#             print(deepest_match)\n",
    "            \n",
    "#             if deepest_match[0] == 'Unknown':\n",
    "#                 categories.update({k: v})\n",
    "#             else:\n",
    "        \n",
    "#                 current = categories\n",
    "#                 for i in range(len(deepest_match)-1):\n",
    "#                     current = current[deepest_match[i]]['children']\n",
    "                    \n",
    "#                 deepest_category = current[deepest_match[-1]]\n",
    "#                 deepest_category.update({k:v})\n",
    "\n",
    "hierarchy_info = []\n",
    "\n",
    "for k, v in fdist.items():\n",
    "    if k is None:\n",
    "        row = {'Level 0': 'Unknown', 'Level 1': \"\", 'Level 2': \"\",  'Level 3': \"\", 'Key': 'None', 'Value': v}\n",
    "        hierarchy_info.append(row)\n",
    "    else:\n",
    "        if k != 'text':\n",
    "            match = find_deepest_category(k, categories)\n",
    "\n",
    "            if len(match) == 2:\n",
    "                row = {'Level 0': match[0], 'Level 1': match[1], 'Level 2': \"\", 'Level 3': \"\", 'Key': k, 'Value': v}\n",
    "                hierarchy_info.append(row)\n",
    "            elif len(match) == 3:\n",
    "                row = {'Level 0': match[0], 'Level 1': match[1], 'Level 2': match[2], 'Level 3': \"\", 'Key': k, 'Value': v}\n",
    "                hierarchy_info.append(row)\n",
    "            elif len(match) == 4:\n",
    "                row = {'Level 0': match[0], 'Level 1': match[1], 'Level 2': match[2], 'Level 3': match[3], 'Key': k, 'Value': v}\n",
    "                hierarchy_info.append(row)\n",
    "\n",
    "hierarchies = pd.DataFrame(hierarchy_info)\n",
    "\n",
    "hierarchies\n"
   ]
  },
  {
   "cell_type": "code",
   "execution_count": 17,
   "id": "4614bf29-7770-4d9b-9bfb-c4d06dc4ee9f",
   "metadata": {},
   "outputs": [
    {
     "data": {
      "application/vnd.plotly.v1+json": {
       "config": {
        "plotlyServerURL": "https://plot.ly"
       },
       "data": [
        {
         "branchvalues": "total",
         "domain": {
          "x": [
           0,
           1
          ],
          "y": [
           0,
           1
          ]
         },
         "hovertemplate": "labels=%{label}<br>Value=%{value}<br>parent=%{parent}<br>id=%{id}<extra></extra>",
         "ids": [
          "Unknown/",
          "object/graphs",
          "text/magazine",
          "audio/notated music",
          "text/other text",
          "text/reading",
          "audio/recording",
          "computer/ressource internet",
          "computer/software",
          "object/three dimensional object",
          "Unknown",
          "audio",
          "computer",
          "object",
          "text"
         ],
         "labels": [
          "",
          "graphs",
          "magazine",
          "notated music",
          "other text",
          "reading",
          "recording",
          "ressource internet",
          "software",
          "three dimensional object",
          "Unknown",
          "audio",
          "computer",
          "object",
          "text"
         ],
         "name": "",
         "parents": [
          "Unknown",
          "object",
          "text",
          "audio",
          "text",
          "text",
          "audio",
          "computer",
          "computer",
          "object",
          "",
          "",
          "",
          "",
          ""
         ],
         "type": "sunburst",
         "values": [
          408,
          63493,
          5826,
          6613,
          4228,
          14012,
          2193,
          92,
          433,
          56,
          408,
          8806,
          525,
          63549,
          24066
         ]
        }
       ],
       "layout": {
        "height": 600,
        "legend": {
         "tracegroupgap": 0
        },
        "margin": {
         "b": 25,
         "l": 25,
         "r": 25,
         "t": 50
        },
        "template": {
         "data": {
          "bar": [
           {
            "error_x": {
             "color": "#2a3f5f"
            },
            "error_y": {
             "color": "#2a3f5f"
            },
            "marker": {
             "line": {
              "color": "#E5ECF6",
              "width": 0.5
             },
             "pattern": {
              "fillmode": "overlay",
              "size": 10,
              "solidity": 0.2
             }
            },
            "type": "bar"
           }
          ],
          "barpolar": [
           {
            "marker": {
             "line": {
              "color": "#E5ECF6",
              "width": 0.5
             },
             "pattern": {
              "fillmode": "overlay",
              "size": 10,
              "solidity": 0.2
             }
            },
            "type": "barpolar"
           }
          ],
          "carpet": [
           {
            "aaxis": {
             "endlinecolor": "#2a3f5f",
             "gridcolor": "white",
             "linecolor": "white",
             "minorgridcolor": "white",
             "startlinecolor": "#2a3f5f"
            },
            "baxis": {
             "endlinecolor": "#2a3f5f",
             "gridcolor": "white",
             "linecolor": "white",
             "minorgridcolor": "white",
             "startlinecolor": "#2a3f5f"
            },
            "type": "carpet"
           }
          ],
          "choropleth": [
           {
            "colorbar": {
             "outlinewidth": 0,
             "ticks": ""
            },
            "type": "choropleth"
           }
          ],
          "contour": [
           {
            "colorbar": {
             "outlinewidth": 0,
             "ticks": ""
            },
            "colorscale": [
             [
              0,
              "#0d0887"
             ],
             [
              0.1111111111111111,
              "#46039f"
             ],
             [
              0.2222222222222222,
              "#7201a8"
             ],
             [
              0.3333333333333333,
              "#9c179e"
             ],
             [
              0.4444444444444444,
              "#bd3786"
             ],
             [
              0.5555555555555556,
              "#d8576b"
             ],
             [
              0.6666666666666666,
              "#ed7953"
             ],
             [
              0.7777777777777778,
              "#fb9f3a"
             ],
             [
              0.8888888888888888,
              "#fdca26"
             ],
             [
              1,
              "#f0f921"
             ]
            ],
            "type": "contour"
           }
          ],
          "contourcarpet": [
           {
            "colorbar": {
             "outlinewidth": 0,
             "ticks": ""
            },
            "type": "contourcarpet"
           }
          ],
          "heatmap": [
           {
            "colorbar": {
             "outlinewidth": 0,
             "ticks": ""
            },
            "colorscale": [
             [
              0,
              "#0d0887"
             ],
             [
              0.1111111111111111,
              "#46039f"
             ],
             [
              0.2222222222222222,
              "#7201a8"
             ],
             [
              0.3333333333333333,
              "#9c179e"
             ],
             [
              0.4444444444444444,
              "#bd3786"
             ],
             [
              0.5555555555555556,
              "#d8576b"
             ],
             [
              0.6666666666666666,
              "#ed7953"
             ],
             [
              0.7777777777777778,
              "#fb9f3a"
             ],
             [
              0.8888888888888888,
              "#fdca26"
             ],
             [
              1,
              "#f0f921"
             ]
            ],
            "type": "heatmap"
           }
          ],
          "heatmapgl": [
           {
            "colorbar": {
             "outlinewidth": 0,
             "ticks": ""
            },
            "colorscale": [
             [
              0,
              "#0d0887"
             ],
             [
              0.1111111111111111,
              "#46039f"
             ],
             [
              0.2222222222222222,
              "#7201a8"
             ],
             [
              0.3333333333333333,
              "#9c179e"
             ],
             [
              0.4444444444444444,
              "#bd3786"
             ],
             [
              0.5555555555555556,
              "#d8576b"
             ],
             [
              0.6666666666666666,
              "#ed7953"
             ],
             [
              0.7777777777777778,
              "#fb9f3a"
             ],
             [
              0.8888888888888888,
              "#fdca26"
             ],
             [
              1,
              "#f0f921"
             ]
            ],
            "type": "heatmapgl"
           }
          ],
          "histogram": [
           {
            "marker": {
             "pattern": {
              "fillmode": "overlay",
              "size": 10,
              "solidity": 0.2
             }
            },
            "type": "histogram"
           }
          ],
          "histogram2d": [
           {
            "colorbar": {
             "outlinewidth": 0,
             "ticks": ""
            },
            "colorscale": [
             [
              0,
              "#0d0887"
             ],
             [
              0.1111111111111111,
              "#46039f"
             ],
             [
              0.2222222222222222,
              "#7201a8"
             ],
             [
              0.3333333333333333,
              "#9c179e"
             ],
             [
              0.4444444444444444,
              "#bd3786"
             ],
             [
              0.5555555555555556,
              "#d8576b"
             ],
             [
              0.6666666666666666,
              "#ed7953"
             ],
             [
              0.7777777777777778,
              "#fb9f3a"
             ],
             [
              0.8888888888888888,
              "#fdca26"
             ],
             [
              1,
              "#f0f921"
             ]
            ],
            "type": "histogram2d"
           }
          ],
          "histogram2dcontour": [
           {
            "colorbar": {
             "outlinewidth": 0,
             "ticks": ""
            },
            "colorscale": [
             [
              0,
              "#0d0887"
             ],
             [
              0.1111111111111111,
              "#46039f"
             ],
             [
              0.2222222222222222,
              "#7201a8"
             ],
             [
              0.3333333333333333,
              "#9c179e"
             ],
             [
              0.4444444444444444,
              "#bd3786"
             ],
             [
              0.5555555555555556,
              "#d8576b"
             ],
             [
              0.6666666666666666,
              "#ed7953"
             ],
             [
              0.7777777777777778,
              "#fb9f3a"
             ],
             [
              0.8888888888888888,
              "#fdca26"
             ],
             [
              1,
              "#f0f921"
             ]
            ],
            "type": "histogram2dcontour"
           }
          ],
          "mesh3d": [
           {
            "colorbar": {
             "outlinewidth": 0,
             "ticks": ""
            },
            "type": "mesh3d"
           }
          ],
          "parcoords": [
           {
            "line": {
             "colorbar": {
              "outlinewidth": 0,
              "ticks": ""
             }
            },
            "type": "parcoords"
           }
          ],
          "pie": [
           {
            "automargin": true,
            "type": "pie"
           }
          ],
          "scatter": [
           {
            "fillpattern": {
             "fillmode": "overlay",
             "size": 10,
             "solidity": 0.2
            },
            "type": "scatter"
           }
          ],
          "scatter3d": [
           {
            "line": {
             "colorbar": {
              "outlinewidth": 0,
              "ticks": ""
             }
            },
            "marker": {
             "colorbar": {
              "outlinewidth": 0,
              "ticks": ""
             }
            },
            "type": "scatter3d"
           }
          ],
          "scattercarpet": [
           {
            "marker": {
             "colorbar": {
              "outlinewidth": 0,
              "ticks": ""
             }
            },
            "type": "scattercarpet"
           }
          ],
          "scattergeo": [
           {
            "marker": {
             "colorbar": {
              "outlinewidth": 0,
              "ticks": ""
             }
            },
            "type": "scattergeo"
           }
          ],
          "scattergl": [
           {
            "marker": {
             "colorbar": {
              "outlinewidth": 0,
              "ticks": ""
             }
            },
            "type": "scattergl"
           }
          ],
          "scattermapbox": [
           {
            "marker": {
             "colorbar": {
              "outlinewidth": 0,
              "ticks": ""
             }
            },
            "type": "scattermapbox"
           }
          ],
          "scatterpolar": [
           {
            "marker": {
             "colorbar": {
              "outlinewidth": 0,
              "ticks": ""
             }
            },
            "type": "scatterpolar"
           }
          ],
          "scatterpolargl": [
           {
            "marker": {
             "colorbar": {
              "outlinewidth": 0,
              "ticks": ""
             }
            },
            "type": "scatterpolargl"
           }
          ],
          "scatterternary": [
           {
            "marker": {
             "colorbar": {
              "outlinewidth": 0,
              "ticks": ""
             }
            },
            "type": "scatterternary"
           }
          ],
          "surface": [
           {
            "colorbar": {
             "outlinewidth": 0,
             "ticks": ""
            },
            "colorscale": [
             [
              0,
              "#0d0887"
             ],
             [
              0.1111111111111111,
              "#46039f"
             ],
             [
              0.2222222222222222,
              "#7201a8"
             ],
             [
              0.3333333333333333,
              "#9c179e"
             ],
             [
              0.4444444444444444,
              "#bd3786"
             ],
             [
              0.5555555555555556,
              "#d8576b"
             ],
             [
              0.6666666666666666,
              "#ed7953"
             ],
             [
              0.7777777777777778,
              "#fb9f3a"
             ],
             [
              0.8888888888888888,
              "#fdca26"
             ],
             [
              1,
              "#f0f921"
             ]
            ],
            "type": "surface"
           }
          ],
          "table": [
           {
            "cells": {
             "fill": {
              "color": "#EBF0F8"
             },
             "line": {
              "color": "white"
             }
            },
            "header": {
             "fill": {
              "color": "#C8D4E3"
             },
             "line": {
              "color": "white"
             }
            },
            "type": "table"
           }
          ]
         },
         "layout": {
          "annotationdefaults": {
           "arrowcolor": "#2a3f5f",
           "arrowhead": 0,
           "arrowwidth": 1
          },
          "autotypenumbers": "strict",
          "coloraxis": {
           "colorbar": {
            "outlinewidth": 0,
            "ticks": ""
           }
          },
          "colorscale": {
           "diverging": [
            [
             0,
             "#8e0152"
            ],
            [
             0.1,
             "#c51b7d"
            ],
            [
             0.2,
             "#de77ae"
            ],
            [
             0.3,
             "#f1b6da"
            ],
            [
             0.4,
             "#fde0ef"
            ],
            [
             0.5,
             "#f7f7f7"
            ],
            [
             0.6,
             "#e6f5d0"
            ],
            [
             0.7,
             "#b8e186"
            ],
            [
             0.8,
             "#7fbc41"
            ],
            [
             0.9,
             "#4d9221"
            ],
            [
             1,
             "#276419"
            ]
           ],
           "sequential": [
            [
             0,
             "#0d0887"
            ],
            [
             0.1111111111111111,
             "#46039f"
            ],
            [
             0.2222222222222222,
             "#7201a8"
            ],
            [
             0.3333333333333333,
             "#9c179e"
            ],
            [
             0.4444444444444444,
             "#bd3786"
            ],
            [
             0.5555555555555556,
             "#d8576b"
            ],
            [
             0.6666666666666666,
             "#ed7953"
            ],
            [
             0.7777777777777778,
             "#fb9f3a"
            ],
            [
             0.8888888888888888,
             "#fdca26"
            ],
            [
             1,
             "#f0f921"
            ]
           ],
           "sequentialminus": [
            [
             0,
             "#0d0887"
            ],
            [
             0.1111111111111111,
             "#46039f"
            ],
            [
             0.2222222222222222,
             "#7201a8"
            ],
            [
             0.3333333333333333,
             "#9c179e"
            ],
            [
             0.4444444444444444,
             "#bd3786"
            ],
            [
             0.5555555555555556,
             "#d8576b"
            ],
            [
             0.6666666666666666,
             "#ed7953"
            ],
            [
             0.7777777777777778,
             "#fb9f3a"
            ],
            [
             0.8888888888888888,
             "#fdca26"
            ],
            [
             1,
             "#f0f921"
            ]
           ]
          },
          "colorway": [
           "#636efa",
           "#EF553B",
           "#00cc96",
           "#ab63fa",
           "#FFA15A",
           "#19d3f3",
           "#FF6692",
           "#B6E880",
           "#FF97FF",
           "#FECB52"
          ],
          "font": {
           "color": "#2a3f5f"
          },
          "geo": {
           "bgcolor": "white",
           "lakecolor": "white",
           "landcolor": "#E5ECF6",
           "showlakes": true,
           "showland": true,
           "subunitcolor": "white"
          },
          "hoverlabel": {
           "align": "left"
          },
          "hovermode": "closest",
          "mapbox": {
           "style": "light"
          },
          "paper_bgcolor": "white",
          "plot_bgcolor": "#E5ECF6",
          "polar": {
           "angularaxis": {
            "gridcolor": "white",
            "linecolor": "white",
            "ticks": ""
           },
           "bgcolor": "#E5ECF6",
           "radialaxis": {
            "gridcolor": "white",
            "linecolor": "white",
            "ticks": ""
           }
          },
          "scene": {
           "xaxis": {
            "backgroundcolor": "#E5ECF6",
            "gridcolor": "white",
            "gridwidth": 2,
            "linecolor": "white",
            "showbackground": true,
            "ticks": "",
            "zerolinecolor": "white"
           },
           "yaxis": {
            "backgroundcolor": "#E5ECF6",
            "gridcolor": "white",
            "gridwidth": 2,
            "linecolor": "white",
            "showbackground": true,
            "ticks": "",
            "zerolinecolor": "white"
           },
           "zaxis": {
            "backgroundcolor": "#E5ECF6",
            "gridcolor": "white",
            "gridwidth": 2,
            "linecolor": "white",
            "showbackground": true,
            "ticks": "",
            "zerolinecolor": "white"
           }
          },
          "shapedefaults": {
           "line": {
            "color": "#2a3f5f"
           }
          },
          "ternary": {
           "aaxis": {
            "gridcolor": "white",
            "linecolor": "white",
            "ticks": ""
           },
           "baxis": {
            "gridcolor": "white",
            "linecolor": "white",
            "ticks": ""
           },
           "bgcolor": "#E5ECF6",
           "caxis": {
            "gridcolor": "white",
            "linecolor": "white",
            "ticks": ""
           }
          },
          "title": {
           "x": 0.05
          },
          "xaxis": {
           "automargin": true,
           "gridcolor": "white",
           "linecolor": "white",
           "ticks": "",
           "title": {
            "standoff": 15
           },
           "zerolinecolor": "white",
           "zerolinewidth": 2
          },
          "yaxis": {
           "automargin": true,
           "gridcolor": "white",
           "linecolor": "white",
           "ticks": "",
           "title": {
            "standoff": 15
           },
           "zerolinecolor": "white",
           "zerolinewidth": 2
          }
         }
        },
        "title": {
         "text": "Sunburst Chart of Categories"
        },
        "width": 800
       }
      },
      "image/png": "[encoded data removed]",
      "text/html": [
       "<div>                            <div id=\"212c000f-a328-43e0-821c-9d1a4cccbadb\" class=\"plotly-graph-div\" style=\"height:600px; width:800px;\"></div>            <script type=\"text/javascript\">                require([\"plotly\"], function(Plotly) {                    window.PLOTLYENV=window.PLOTLYENV || {};                                    if (document.getElementById(\"212c000f-a328-43e0-821c-9d1a4cccbadb\")) {                    Plotly.newPlot(                        \"212c000f-a328-43e0-821c-9d1a4cccbadb\",                        [{\"branchvalues\":\"total\",\"domain\":{\"x\":[0.0,1.0],\"y\":[0.0,1.0]},\"hovertemplate\":\"labels=%{label}\\u003cbr\\u003eValue=%{value}\\u003cbr\\u003eparent=%{parent}\\u003cbr\\u003eid=%{id}\\u003cextra\\u003e\\u003c\\u002fextra\\u003e\",\"ids\":[\"Unknown\\u002f\",\"object\\u002fgraphs\",\"text\\u002fmagazine\",\"audio\\u002fnotated music\",\"text\\u002fother text\",\"text\\u002freading\",\"audio\\u002frecording\",\"computer\\u002fressource internet\",\"computer\\u002fsoftware\",\"object\\u002fthree dimensional object\",\"Unknown\",\"audio\",\"computer\",\"object\",\"text\"],\"labels\":[\"\",\"graphs\",\"magazine\",\"notated music\",\"other text\",\"reading\",\"recording\",\"ressource internet\",\"software\",\"three dimensional object\",\"Unknown\",\"audio\",\"computer\",\"object\",\"text\"],\"name\":\"\",\"parents\":[\"Unknown\",\"object\",\"text\",\"audio\",\"text\",\"text\",\"audio\",\"computer\",\"computer\",\"object\",\"\",\"\",\"\",\"\",\"\"],\"values\":[408,63493,5826,6613,4228,14012,2193,92,433,56,408,8806,525,63549,24066],\"type\":\"sunburst\"}],                        {\"template\":{\"data\":{\"histogram2dcontour\":[{\"type\":\"histogram2dcontour\",\"colorbar\":{\"outlinewidth\":0,\"ticks\":\"\"},\"colorscale\":[[0.0,\"#0d0887\"],[0.1111111111111111,\"#46039f\"],[0.2222222222222222,\"#7201a8\"],[0.3333333333333333,\"#9c179e\"],[0.4444444444444444,\"#bd3786\"],[0.5555555555555556,\"#d8576b\"],[0.6666666666666666,\"#ed7953\"],[0.7777777777777778,\"#fb9f3a\"],[0.8888888888888888,\"#fdca26\"],[1.0,\"#f0f921\"]]}],\"choropleth\":[{\"type\":\"choropleth\",\"colorbar\":{\"outlinewidth\":0,\"ticks\":\"\"}}],\"histogram2d\":[{\"type\":\"histogram2d\",\"colorbar\":{\"outlinewidth\":0,\"ticks\":\"\"},\"colorscale\":[[0.0,\"#0d0887\"],[0.1111111111111111,\"#46039f\"],[0.2222222222222222,\"#7201a8\"],[0.3333333333333333,\"#9c179e\"],[0.4444444444444444,\"#bd3786\"],[0.5555555555555556,\"#d8576b\"],[0.6666666666666666,\"#ed7953\"],[0.7777777777777778,\"#fb9f3a\"],[0.8888888888888888,\"#fdca26\"],[1.0,\"#f0f921\"]]}],\"heatmap\":[{\"type\":\"heatmap\",\"colorbar\":{\"outlinewidth\":0,\"ticks\":\"\"},\"colorscale\":[[0.0,\"#0d0887\"],[0.1111111111111111,\"#46039f\"],[0.2222222222222222,\"#7201a8\"],[0.3333333333333333,\"#9c179e\"],[0.4444444444444444,\"#bd3786\"],[0.5555555555555556,\"#d8576b\"],[0.6666666666666666,\"#ed7953\"],[0.7777777777777778,\"#fb9f3a\"],[0.8888888888888888,\"#fdca26\"],[1.0,\"#f0f921\"]]}],\"heatmapgl\":[{\"type\":\"heatmapgl\",\"colorbar\":{\"outlinewidth\":0,\"ticks\":\"\"},\"colorscale\":[[0.0,\"#0d0887\"],[0.1111111111111111,\"#46039f\"],[0.2222222222222222,\"#7201a8\"],[0.3333333333333333,\"#9c179e\"],[0.4444444444444444,\"#bd3786\"],[0.5555555555555556,\"#d8576b\"],[0.6666666666666666,\"#ed7953\"],[0.7777777777777778,\"#fb9f3a\"],[0.8888888888888888,\"#fdca26\"],[1.0,\"#f0f921\"]]}],\"contourcarpet\":[{\"type\":\"contourcarpet\",\"colorbar\":{\"outlinewidth\":0,\"ticks\":\"\"}}],\"contour\":[{\"type\":\"contour\",\"colorbar\":{\"outlinewidth\":0,\"ticks\":\"\"},\"colorscale\":[[0.0,\"#0d0887\"],[0.1111111111111111,\"#46039f\"],[0.2222222222222222,\"#7201a8\"],[0.3333333333333333,\"#9c179e\"],[0.4444444444444444,\"#bd3786\"],[0.5555555555555556,\"#d8576b\"],[0.6666666666666666,\"#ed7953\"],[0.7777777777777778,\"#fb9f3a\"],[0.8888888888888888,\"#fdca26\"],[1.0,\"#f0f921\"]]}],\"surface\":[{\"type\":\"surface\",\"colorbar\":{\"outlinewidth\":0,\"ticks\":\"\"},\"colorscale\":[[0.0,\"#0d0887\"],[0.1111111111111111,\"#46039f\"],[0.2222222222222222,\"#7201a8\"],[0.3333333333333333,\"#9c179e\"],[0.4444444444444444,\"#bd3786\"],[0.5555555555555556,\"#d8576b\"],[0.6666666666666666,\"#ed7953\"],[0.7777777777777778,\"#fb9f3a\"],[0.8888888888888888,\"#fdca26\"],[1.0,\"#f0f921\"]]}],\"mesh3d\":[{\"type\":\"mesh3d\",\"colorbar\":{\"outlinewidth\":0,\"ticks\":\"\"}}],\"scatter\":[{\"fillpattern\":{\"fillmode\":\"overlay\",\"size\":10,\"solidity\":0.2},\"type\":\"scatter\"}],\"parcoords\":[{\"type\":\"parcoords\",\"line\":{\"colorbar\":{\"outlinewidth\":0,\"ticks\":\"\"}}}],\"scatterpolargl\":[{\"type\":\"scatterpolargl\",\"marker\":{\"colorbar\":{\"outlinewidth\":0,\"ticks\":\"\"}}}],\"bar\":[{\"error_x\":{\"color\":\"#2a3f5f\"},\"error_y\":{\"color\":\"#2a3f5f\"},\"marker\":{\"line\":{\"color\":\"#E5ECF6\",\"width\":0.5},\"pattern\":{\"fillmode\":\"overlay\",\"size\":10,\"solidity\":0.2}},\"type\":\"bar\"}],\"scattergeo\":[{\"type\":\"scattergeo\",\"marker\":{\"colorbar\":{\"outlinewidth\":0,\"ticks\":\"\"}}}],\"scatterpolar\":[{\"type\":\"scatterpolar\",\"marker\":{\"colorbar\":{\"outlinewidth\":0,\"ticks\":\"\"}}}],\"histogram\":[{\"marker\":{\"pattern\":{\"fillmode\":\"overlay\",\"size\":10,\"solidity\":0.2}},\"type\":\"histogram\"}],\"scattergl\":[{\"type\":\"scattergl\",\"marker\":{\"colorbar\":{\"outlinewidth\":0,\"ticks\":\"\"}}}],\"scatter3d\":[{\"type\":\"scatter3d\",\"line\":{\"colorbar\":{\"outlinewidth\":0,\"ticks\":\"\"}},\"marker\":{\"colorbar\":{\"outlinewidth\":0,\"ticks\":\"\"}}}],\"scattermapbox\":[{\"type\":\"scattermapbox\",\"marker\":{\"colorbar\":{\"outlinewidth\":0,\"ticks\":\"\"}}}],\"scatterternary\":[{\"type\":\"scatterternary\",\"marker\":{\"colorbar\":{\"outlinewidth\":0,\"ticks\":\"\"}}}],\"scattercarpet\":[{\"type\":\"scattercarpet\",\"marker\":{\"colorbar\":{\"outlinewidth\":0,\"ticks\":\"\"}}}],\"carpet\":[{\"aaxis\":{\"endlinecolor\":\"#2a3f5f\",\"gridcolor\":\"white\",\"linecolor\":\"white\",\"minorgridcolor\":\"white\",\"startlinecolor\":\"#2a3f5f\"},\"baxis\":{\"endlinecolor\":\"#2a3f5f\",\"gridcolor\":\"white\",\"linecolor\":\"white\",\"minorgridcolor\":\"white\",\"startlinecolor\":\"#2a3f5f\"},\"type\":\"carpet\"}],\"table\":[{\"cells\":{\"fill\":{\"color\":\"#EBF0F8\"},\"line\":{\"color\":\"white\"}},\"header\":{\"fill\":{\"color\":\"#C8D4E3\"},\"line\":{\"color\":\"white\"}},\"type\":\"table\"}],\"barpolar\":[{\"marker\":{\"line\":{\"color\":\"#E5ECF6\",\"width\":0.5},\"pattern\":{\"fillmode\":\"overlay\",\"size\":10,\"solidity\":0.2}},\"type\":\"barpolar\"}],\"pie\":[{\"automargin\":true,\"type\":\"pie\"}]},\"layout\":{\"autotypenumbers\":\"strict\",\"colorway\":[\"#636efa\",\"#EF553B\",\"#00cc96\",\"#ab63fa\",\"#FFA15A\",\"#19d3f3\",\"#FF6692\",\"#B6E880\",\"#FF97FF\",\"#FECB52\"],\"font\":{\"color\":\"#2a3f5f\"},\"hovermode\":\"closest\",\"hoverlabel\":{\"align\":\"left\"},\"paper_bgcolor\":\"white\",\"plot_bgcolor\":\"#E5ECF6\",\"polar\":{\"bgcolor\":\"#E5ECF6\",\"angularaxis\":{\"gridcolor\":\"white\",\"linecolor\":\"white\",\"ticks\":\"\"},\"radialaxis\":{\"gridcolor\":\"white\",\"linecolor\":\"white\",\"ticks\":\"\"}},\"ternary\":{\"bgcolor\":\"#E5ECF6\",\"aaxis\":{\"gridcolor\":\"white\",\"linecolor\":\"white\",\"ticks\":\"\"},\"baxis\":{\"gridcolor\":\"white\",\"linecolor\":\"white\",\"ticks\":\"\"},\"caxis\":{\"gridcolor\":\"white\",\"linecolor\":\"white\",\"ticks\":\"\"}},\"coloraxis\":{\"colorbar\":{\"outlinewidth\":0,\"ticks\":\"\"}},\"colorscale\":{\"sequential\":[[0.0,\"#0d0887\"],[0.1111111111111111,\"#46039f\"],[0.2222222222222222,\"#7201a8\"],[0.3333333333333333,\"#9c179e\"],[0.4444444444444444,\"#bd3786\"],[0.5555555555555556,\"#d8576b\"],[0.6666666666666666,\"#ed7953\"],[0.7777777777777778,\"#fb9f3a\"],[0.8888888888888888,\"#fdca26\"],[1.0,\"#f0f921\"]],\"sequentialminus\":[[0.0,\"#0d0887\"],[0.1111111111111111,\"#46039f\"],[0.2222222222222222,\"#7201a8\"],[0.3333333333333333,\"#9c179e\"],[0.4444444444444444,\"#bd3786\"],[0.5555555555555556,\"#d8576b\"],[0.6666666666666666,\"#ed7953\"],[0.7777777777777778,\"#fb9f3a\"],[0.8888888888888888,\"#fdca26\"],[1.0,\"#f0f921\"]],\"diverging\":[[0,\"#8e0152\"],[0.1,\"#c51b7d\"],[0.2,\"#de77ae\"],[0.3,\"#f1b6da\"],[0.4,\"#fde0ef\"],[0.5,\"#f7f7f7\"],[0.6,\"#e6f5d0\"],[0.7,\"#b8e186\"],[0.8,\"#7fbc41\"],[0.9,\"#4d9221\"],[1,\"#276419\"]]},\"xaxis\":{\"gridcolor\":\"white\",\"linecolor\":\"white\",\"ticks\":\"\",\"title\":{\"standoff\":15},\"zerolinecolor\":\"white\",\"automargin\":true,\"zerolinewidth\":2},\"yaxis\":{\"gridcolor\":\"white\",\"linecolor\":\"white\",\"ticks\":\"\",\"title\":{\"standoff\":15},\"zerolinecolor\":\"white\",\"automargin\":true,\"zerolinewidth\":2},\"scene\":{\"xaxis\":{\"backgroundcolor\":\"#E5ECF6\",\"gridcolor\":\"white\",\"linecolor\":\"white\",\"showbackground\":true,\"ticks\":\"\",\"zerolinecolor\":\"white\",\"gridwidth\":2},\"yaxis\":{\"backgroundcolor\":\"#E5ECF6\",\"gridcolor\":\"white\",\"linecolor\":\"white\",\"showbackground\":true,\"ticks\":\"\",\"zerolinecolor\":\"white\",\"gridwidth\":2},\"zaxis\":{\"backgroundcolor\":\"#E5ECF6\",\"gridcolor\":\"white\",\"linecolor\":\"white\",\"showbackground\":true,\"ticks\":\"\",\"zerolinecolor\":\"white\",\"gridwidth\":2}},\"shapedefaults\":{\"line\":{\"color\":\"#2a3f5f\"}},\"annotationdefaults\":{\"arrowcolor\":\"#2a3f5f\",\"arrowhead\":0,\"arrowwidth\":1},\"geo\":{\"bgcolor\":\"white\",\"landcolor\":\"#E5ECF6\",\"subunitcolor\":\"white\",\"showland\":true,\"showlakes\":true,\"lakecolor\":\"white\"},\"title\":{\"x\":0.05},\"mapbox\":{\"style\":\"light\"}}},\"legend\":{\"tracegroupgap\":0},\"title\":{\"text\":\"Sunburst Chart of Categories\"},\"width\":800,\"margin\":{\"t\":50,\"l\":25,\"r\":25,\"b\":25},\"height\":600},                        {\"responsive\": true}                    ).then(function(){\n",
       "                            \n",
       "var gd = document.getElementById('212c000f-a328-43e0-821c-9d1a4cccbadb');\n",
       "var x = new MutationObserver(function (mutations, observer) {{\n",
       "        var display = window.getComputedStyle(gd).display;\n",
       "        if (!display || display === 'none') {{\n",
       "            console.log([gd, 'removed!']);\n",
       "            Plotly.purge(gd);\n",
       "            observer.disconnect();\n",
       "        }}\n",
       "}});\n",
       "\n",
       "// Listen for the removal of the full notebook cells\n",
       "var notebookContainer = gd.closest('#notebook-container');\n",
       "if (notebookContainer) {{\n",
       "    x.observe(notebookContainer, {childList: true});\n",
       "}}\n",
       "\n",
       "// Listen for the clearing of the current output cell\n",
       "var outputEl = gd.closest('.output');\n",
       "if (outputEl) {{\n",
       "    x.observe(outputEl, {childList: true});\n",
       "}}\n",
       "\n",
       "                        })                };                });            </script>        </div>"
      ]
     },
     "metadata": {},
     "output_type": "display_data"
    }
   ],
   "source": [
    "import plotly.express as px\n",
    "\n",
    "# hierarchies['Level 1'] = hierarchies['Level 1'].fillna('')\n",
    "# hierarchies['Level 2'] = hierarchies['Level 2'].fillna('')\n",
    "# hierarchies['Level 3'] = hierarchies['Level 3'].fillna('')\n",
    "\n",
    "# Creating the sunburst chart\n",
    "fig = px.sunburst(\n",
    "    hierarchies, \n",
    "    path=['Level 0', 'Level 1'],  # The hierarchy of your categories\n",
    "    values='Value',  # The values for each leaf node\n",
    "    # names='Key',  # The names for each leaf node\n",
    "    title=\"Sunburst Chart of Categories\",  # Optional: Adds a title to your chart\n",
    "    width = 1000\n",
    ")\n",
    "\n",
    "# Set the size of the figure here\n",
    "fig.update_layout(\n",
    "    width=800,   # Adjust the width as needed\n",
    "    height=600,  # Adjust the height as needed\n",
    "    margin=dict(t=50, l=25, r=25, b=25)  # Adjust the margins if needed\n",
    ")\n",
    "\n",
    "# Show the figure\n",
    "fig.show()\n"
   ]
  },
  {
   "cell_type": "code",
   "execution_count": null,
   "id": "09777bd1-e234-43fd-85af-306a5fb7e744",
   "metadata": {},
   "outputs": [],
   "source": [
    "# sample_hierarchies = hierarchies.head(10)  # adjust the number for your case\n",
    "\n",
    "# # Check the sample data\n",
    "# print(sample_hierarchies)\n",
    "\n",
    "# # Try plotting with the sample data\n",
    "# fig = px.sunburst(\n",
    "#     sample_hierarchies,\n",
    "#     path=['Level 0', 'Level 1', 'Level 2', 'Level 3'],\n",
    "#     values='Value',\n",
    "#     names='Key',\n",
    "#     title='Sunburst Chart of Categories'\n",
    "# )\n",
    "\n",
    "# fig.show()"
   ]
  },
  {
   "cell_type": "code",
   "execution_count": null,
   "id": "2b7d1d81-aa69-4e25-bf4e-0d5dfb9e687c",
   "metadata": {},
   "outputs": [],
   "source": [
    "categories"
   ]
  },
  {
   "cell_type": "code",
   "execution_count": null,
   "id": "8ab62eaa-4fbc-4e81-ab37-540e061f9674",
   "metadata": {},
   "outputs": [],
   "source": [
    "def flatten_dict(d, parent_key='', sep='/', paths=[]):\n",
    "    for k, v in d.items():\n",
    "        new_key = f\"{parent_key}{sep}{k}\" if parent_key else k\n",
    "        if isinstance(v, dict) and 'children' in v:\n",
    "            flatten_dict(v['children'], new_key, sep, paths)\n",
    "        elif isinstance(v, dict):\n",
    "            for sub_k, sub_v in v.items():\n",
    "                paths.append((f\"{new_key}{sep}{sub_k}\", sub_v))\n",
    "        else:\n",
    "            paths.append((new_key, v))\n",
    "    return paths\n",
    "\n",
    "# Flatten your nested dictionary\n",
    "flattened_paths = flatten_dict(categories)\n",
    "\n",
    "# Create initial DataFrame\n",
    "df = pd.DataFrame(flattened_paths, columns=['Path', 'Value'])\n",
    "\n",
    "# Split the 'Path' column into separate columns for each level\n",
    "df_hierarchy = df['Path'].str.split('/', expand=True)\n",
    "\n",
    "# Add the 'Value' column to the hierarchy DataFrame\n",
    "df_hierarchy['Value'] = df['Value']\n",
    "\n",
    "# Rename columns to generic names\n",
    "df_hierarchy.columns = [f\"Level_{i}\" for i in range(df_hierarchy.shape[1] - 1)] + ['Value']\n",
    "\n",
    "# Display the resulting DataFrame\n",
    "print(df_hierarchy.head())"
   ]
  },
  {
   "cell_type": "markdown",
   "id": "e77380f1-5568-4922-a5bf-f2fac26ccfa7",
   "metadata": {},
   "source": [
    "# Publication Type Preprocessing"
   ]
  },
  {
   "cell_type": "code",
   "execution_count": null,
   "id": "62b4ccf9",
   "metadata": {},
   "outputs": [],
   "source": [
    "# import re\n",
    "\n",
    "# def split_words_in_list(words_list):\n",
    "#     result = []\n",
    "#     for text in words_list:\n",
    "#         # Split the text based on spaces or transitions from lowercase to uppercase\n",
    "#         words = re.findall(r'[A-Z]?[a-z]+|[A-Z]+(?=[A-Z]|$)', text)\n",
    "#         result.append(words)\n",
    "#     return result\n",
    "\n",
    "# unique_types = unique_types[np.logical_not(np.equal(unique_types, None))]\n",
    "# cleaned_unique_types = split_words_in_list(unique_types)"
   ]
  },
  {
   "cell_type": "code",
   "execution_count": null,
   "id": "a22ecbfd",
   "metadata": {},
   "outputs": [],
   "source": [
    "# def categorize_data(processed_words_list, book_keywords, academic_keywords, \n",
    "#                     audio_keywords, art_keywords, computer_keywords, data_keywords):\n",
    "#     categorized_data = {}\n",
    "#     for entry in processed_words_list:\n",
    "#         is_academic = any(word.lower() in academic_keywords or any(keyword.lower() in word.lower() for keyword in academic_keywords) for word in entry)\n",
    "#         if is_academic:\n",
    "#             categorized_data[' '.join(entry)] = 'academic'\n",
    "#         else:\n",
    "#             is_recording = any(word.lower() in audio_keywords or any(keyword.lower() in word.lower() for keyword in audio_keywords) for word in entry)\n",
    "#             if is_recording:\n",
    "#                 categorized_data[' '.join(entry)] = 'recording'\n",
    "#             else:\n",
    "#                 is_art = any(word.lower() in art_keywords or any(keyword.lower() in word.lower() for keyword in art_keywords) for word in entry)\n",
    "#                 if is_art:\n",
    "#                     categorized_data[' '.join(entry)] = 'art'\n",
    "#                 else:\n",
    "#                     is_computer = any(word.lower() in computer_keywords or any(keyword.lower() in word.lower() for keyword in computer_keywords) for word in entry)\n",
    "#                     if is_computer:\n",
    "#                         categorized_data[' '.join(entry)] = 'computer'\n",
    "#                     else:\n",
    "#                         is_data = any(word.lower() in book_keywords or any(keyword.lower() in word.lower() for keyword in data_keywords) for word in entry)\n",
    "#                         if is_data:\n",
    "#                             categorized_data[' '.join(entry)] = 'data'\n",
    "#                         else:    \n",
    "#                             is_book = any(word.lower() in book_keywords or any(keyword.lower() in word.lower() for keyword in book_keywords) for word in entry)\n",
    "#                             if is_book:\n",
    "#                                 categorized_data[' '.join(entry)] = 'book'\n",
    "#                             else:\n",
    "#                                 categorized_data[' '.join(entry)] = 'unknown'\n",
    "    \n",
    "#     return categorized_data\n",
    "\n",
    "# # Example keywords related to books\n",
    "# book_keywords = [\n",
    "#     \"book\", \"story\", \"stories\", \"fiction\", \"biography\", \"tale\", \"interpretation\",\n",
    "#     \"journal\", \"broadside\", \"proclamation\", \"read\", \"translation\", \"almanac\", 'Brtoadsides',\n",
    "#     \"periodi\", \"newspaper\", \"magazine\",\"novel\", \"print\", \"text\", \"poetry\", \"poem\",\"poezja\", \"sonnet\",\"humor\", \"guide\", \"eriodical\",\n",
    "#     \"memoir\", \"manual\", \"encyclopedia\", \"dictionar\",\"recipe\", \"binding\", \"publica\", \"publish\", \"newsletter\", \"writing\", \"constitution\"\n",
    "# ]\n",
    "\n",
    "# academic_keywords = [\n",
    "#     \"paper\", \"proceeding\", \"dissertation\", \"academic\", \"conference\", \"thesis\", \"annotation\", \"presentation\", \"sample\", \"proof\", \"guildeline\", \"treaties\",\n",
    "#      \"exam\", \"guide\", \"law\", \"essay\", \"manuscript\", \"studies\", \"report\", \"literature\", \"quotation\", \"teach\", \"theory\", \"anecdote\", \"archive\", \"review\", \"reference\", \"outline\",\n",
    "#     \"literary\", \"document\", \"bibliograph\",\"criticism\", \"lecture\", \"abstracts\", \"survey\", \"work\", \"exam\",\"problem\", \"question\", \"grammar\",\"histor\", \"scientific\"\n",
    "# ]\n",
    "\n",
    "# audio_keywords = [\"song\",\"sing\",\"music\",\"recording\", \"recorded\",\"score\",\"sound\",\"audio\", \"symphon\", \"sonata\",\"anthem\",\"opera\",\"rhyme\",\"ballad\",\"folklore\", \"speech\",\n",
    "#                   \"narrat\",\"commenta\", \"radio\", \"jazz\", \"concert\",\"film\",\"video\", \"dialog\", \"interview\"]\n",
    "\n",
    "# art_keywords = [\"art\",\"sculpture\",\"paint\",\"draw\",\"theatre\",\"theater\",\"play\",\"drama\", \"advertise\", \"portrait\",\n",
    "#                 \"picture\", \"pictorial\", \"image\",\"photo\", \"cartoon\", \"comic\",\"manga\", \"poster\", \"lyric\", \"color\", \"game\"]\n",
    "\n",
    "\n",
    "# computer_keywords = [\"software\",\"computer\", \"http\", \"internet\", \"disc\", \"disk\",\"code\",\n",
    "#                      \"web\", \"program\", \"database\",\"electronic\", \"online\", \"Elektronische\"]\n",
    "\n",
    "# data_keywords = [\"map\", \"statisti\", \"chart\", \"graph\", \"atlas\", \"sheet\", \"address\",\n",
    "#                  \"directory\", \"directories\", \"list\",\"catalog\",\"collection\",\"form\" ]\n",
    "\n",
    "# # Apply categorization function to the processed words list\n",
    "# categorized_data = categorize_data(cleaned_unique_types, book_keywords, academic_keywords,\n",
    "#                                    audio_keywords, art_keywords, computer_keywords, data_keywords)\n",
    "\n",
    "\n",
    "# # Get the number of items with the value of \"unknown\"\n",
    "# unknown_count = sum(1 for category in categorized_data.values() if category == 'unknown')\n",
    "\n",
    "# print(\"Number of items with value 'unknown':\", unknown_count)"
   ]
  },
  {
   "cell_type": "code",
   "execution_count": null,
   "id": "10810559",
   "metadata": {},
   "outputs": [],
   "source": [
    "# unknown_keys = [key for key, value in categorized_data.items() if value == 'unknown']\n",
    "\n",
    "# unknown_keys"
   ]
  },
  {
   "cell_type": "code",
   "execution_count": null,
   "id": "83ceb3fd",
   "metadata": {},
   "outputs": [],
   "source": []
  }
 ],
 "metadata": {
  "kernelspec": {
   "display_name": "Python 3 (ipykernel)",
   "language": "python",
   "name": "python3"
  },
  "language_info": {
   "codemirror_mode": {
    "name": "ipython",
    "version": 3
   },
   "file_extension": ".py",
   "mimetype": "text/x-python",
   "name": "python",
   "nbconvert_exporter": "python",
   "pygments_lexer": "ipython3",
   "version": "3.11.4"
  }
 },
 "nbformat": 4,
 "nbformat_minor": 5
}
